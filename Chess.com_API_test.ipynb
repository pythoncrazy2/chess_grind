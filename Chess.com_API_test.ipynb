{
 "cells": [
  {
   "cell_type": "code",
   "execution_count": 1,
   "id": "00c4908a",
   "metadata": {
    "collapsed": true
   },
   "outputs": [],
   "source": [
    "#from chessdotcom import get_player_profile, get_player_games_by_month,get_player_games_by_month_pgn\n",
    "#import nest_asyncio\n",
    "#nest_asyncio.apply()\n",
    "#response = get_player_profile(\"chessfanatic6\")\n",
    "#await response\n",
    "\n",
    "#TODO: Get games from a chess.com profile, right now I a preloaded pgn file\n",
    "\n",
    "\n",
    "#games=get_player_games_by_month_pgn(\"chessfanatic6\",month=\"06\",year=\"2022\")\n",
    "#await games"
   ]
  },
  {
   "cell_type": "code",
   "execution_count": 2,
   "id": "648d1925",
   "metadata": {},
   "outputs": [
    {
     "name": "stdout",
     "output_type": "stream",
     "text": [
      "1. e3 d5 2. Ke2 Bf5 3. f3 e6 4. Kf2 Nc6 5. d4 Nf6 6. Bb5 Bd6 7. Bxc6+ bxc6 8.\n",
      "Nc3 O-O 9. Nge2 c5 10. Rf1 c4 11. Kg1 Nh5 12. Bd2 Qh4 13. g3 Nxg3 14. Nxg3 Bxg3\n",
      "15. hxg3 Qxg3+ 16. Kh1 Bh3 17. Qe2 h5 18. Rg1 Qh4 19. Qh2 f6 20. e4 g5 21. Rg3\n",
      "Kf7 22. Rxh3 Qxh3 23. Qxh3 Rh8 24. Rg1 Rag8 25. f4 g4 26. Qh4 Ke7 27. e5 g3 28.\n",
      "Qxf6+ Kd7 29. Nb5 Rh7 30. Kg2 Kc6 31. Nc3 Kb7 32. Kf3 h4 33. Be3 h3 34. Rxg3 h2\n",
      "35. Rg2 h1=Q 36. Qxe6 Qxg2# 0-1\n"
     ]
    }
   ],
   "source": [
    "# imports\n",
    "from pgn_parser import parser, pgn\n",
    "import pgn as pgn2\n",
    "import sys\n",
    "\n",
    "# read pgn database in pgn_text as file\n",
    "f = open(\"C:\\\\Users\\\\viksp\\\\Downloads\\\\.pgn\\\\chesscom-export-chessfanatic6.pgn\")\n",
    "pgn_text = f.read()\n",
    "f.close()\n",
    "\n",
    "# read pgn databse into an object\n",
    "games = pgn2.loads(pgn_text)\n",
    "# print(games[0].moves)\n",
    "\n",
    "# getting the moves only without move numbers\n",
    "moves = games[0].moves[::2]\n",
    "\n",
    "# adding move numbers\n",
    "current_move_number = 0\n",
    "for i in range(0, len(moves)):\n",
    "    # if the move is the first, third, fifth... but not the game result\n",
    "    if(i % 2 == 0 and moves[i] != \"0-1\" and moves[i] != \"1/2-1/2\" and moves[i] != \"1-0\"):\n",
    "        current_move_number += 1\n",
    "        moves[i] = str(current_move_number)+\".\"+moves[i]\n",
    "\n",
    "\n",
    "# getting the timing of the moves\n",
    "timings = games[0].moves[1::2]\n",
    "\n",
    "# getting information about the game\n",
    "white = games[0].white\n",
    "black = games[0].black\n",
    "result = games[0].result\n",
    "termination = games[0].termination\n",
    "time_control = games[0].timecontrol\n",
    "x = 3\n",
    "# print(moves)\n",
    "#print(' '.join(moves))\n",
    "# print(timings)\n",
    "\n",
    "# read game with move numbers\n",
    "game = parser.parse(' '.join(moves), actions=pgn.Actions())\n",
    "print(game)\n"
   ]
  },
  {
   "cell_type": "code",
   "execution_count": 3,
   "id": "1902dc23",
   "metadata": {},
   "outputs": [],
   "source": [
    "#import pychess and start stockfish\n",
    "import chess.engine\n",
    "import chess.pgn\n",
    "\n",
    "engine = chess.engine.SimpleEngine.popen_uci(\"C:\\\\Users\\\\viksp\\\\Documents\\\\Folder_of_Folders\\\\copyingaimchess\\\\chess_grind\\\\stockfish-windows-amd64.exe\")\n"
   ]
  },
  {
   "cell_type": "code",
   "execution_count": null,
   "id": "216f3131",
   "metadata": {},
   "outputs": [],
   "source": []
  }
 ],
 "metadata": {
  "kernelspec": {
   "display_name": "Python 3.7.13 ('chess')",
   "language": "python",
   "name": "python3"
  },
  "language_info": {
   "codemirror_mode": {
    "name": "ipython",
    "version": 3
   },
   "file_extension": ".py",
   "mimetype": "text/x-python",
   "name": "python",
   "nbconvert_exporter": "python",
   "pygments_lexer": "ipython3",
   "version": "3.7.13"
  },
  "vscode": {
   "interpreter": {
    "hash": "2b58b63663bfa6bdacfb552951e5a84b828b64be8907b23d32c9ef045afeb99a"
   }
  }
 },
 "nbformat": 4,
 "nbformat_minor": 5
}
