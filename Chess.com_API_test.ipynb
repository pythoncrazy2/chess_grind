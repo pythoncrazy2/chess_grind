{
 "cells": [
  {
   "cell_type": "code",
   "execution_count": 7,
   "id": "00c4908a",
   "metadata": {
    "collapsed": true
   },
   "outputs": [],
   "source": [
    "#from chessdotcom import get_player_profile, get_player_games_by_month,get_player_games_by_month_pgn\n",
    "#import nest_asyncio\n",
    "#nest_asyncio.apply()\n",
    "#response = get_player_profile(\"chessfanatic6\")\n",
    "#await response\n",
    "\n",
    "#TODO: Get games from a chess.com profile, right now I a preloaded pgn file\n",
    "\n",
    "\n",
    "#games=get_player_games_by_month_pgn(\"chessfanatic6\",month=\"06\",year=\"2022\")\n",
    "#await games"
   ]
  },
  {
   "cell_type": "code",
   "execution_count": 8,
   "id": "648d1925",
   "metadata": {},
   "outputs": [
    {
     "name": "stdout",
     "output_type": "stream",
     "text": [
      "1. e4 e5 2. Nf3 Nc6 3. d4 exd4 4. Nxd4 Bc5 5. Nxc6 dxc6 6. Qxd8+ Kxd8 7. Bc4 f6\n",
      "8. Nc3 Ne7 9. Bf4 Bd7 10. Rd1 b5 11. Bb3 a5 12. a3 Bb6 13. O-O Kc8 14. e5 fxe5\n",
      "15. Bxe5 Nf5 16. Rfe1 Rf8 17. Ne4 g6 18. Nf6 Nd6 19. Bxd6 cxd6 20. Nxd7 Bxf2+\n",
      "21. Kf1 Kxd7 22. Re2 Bb6+ 23. Ke1 a4 24. Be6+ Kc7 25. Bh3 Ba5+ 26. c3 Rae8 27.\n",
      "Rxe8 Rxe8+ 28. Kd2 c5 29. Rf1 Re7 30. Rf6 b4 31. Be6 bxa3 32. bxa3 Kb6 33. Bg8\n",
      "Kc7 34. h3 1/2-1/2\n"
     ]
    }
   ],
   "source": [
    "# imports\n",
    "from pgn_parser import parser, pgn\n",
    "import pgn as pgn2\n",
    "import sys\n",
    "\n",
    "# read pgn database in pgn_text as file\n",
    "f = open(\"tester.pgn\")\n",
    "pgn_text = f.read()\n",
    "f.close()\n",
    "\n",
    "# read pgn databse into an object\n",
    "games = pgn2.loads(pgn_text)\n",
    "# print(games[0].moves)\n",
    "'''\n",
    "# getting the moves only without move numbers\n",
    "moves = games[0].moves[::2]\n",
    "\n",
    "# adding move numbers\n",
    "current_move_number = 0\n",
    "for i in range(0, len(moves)):\n",
    "    # if the move is the first, third, fifth... but not the game result\n",
    "    if(i % 2 == 0 and moves[i] != \"0-1\" and moves[i] != \"1/2-1/2\" and moves[i] != \"1-0\"):\n",
    "        current_move_number += 1\n",
    "        moves[i] = str(current_move_number)+\".\"+moves[i]\n",
    "\n",
    "\n",
    "# getting the timing of the moves\n",
    "timings = games[0].moves[1::2]\n",
    "\n",
    "# getting information about the game\n",
    "white = games[0].white\n",
    "black = games[0].black\n",
    "result = games[0].result\n",
    "termination = games[0].termination\n",
    "time_control = games[0].timecontrol\n",
    "x = 3\n",
    "# print(moves)\n",
    "#print(' '.join(moves))\n",
    "# print(timings)\n",
    "\n",
    "# read game with move numbers\n",
    "game = parser.parse(' '.join(moves), actions=pgn.Actions())\n",
    "print(game)\n",
    "'''"
   ]
  },
  {
   "cell_type": "code",
   "execution_count": 14,
   "id": "1902dc23",
   "metadata": {},
   "outputs": [
    {
     "name": "stdout",
     "output_type": "stream",
     "text": [
      "<class 'chess.pgn.Game'>\n"
     ]
    },
    {
     "ename": "AttributeError",
     "evalue": "'Game' object has no attribute 'readline'",
     "output_type": "error",
     "traceback": [
      "\u001b[1;31m---------------------------------------------------------------------------\u001b[0m",
      "\u001b[1;31mAttributeError\u001b[0m                            Traceback (most recent call last)",
      "\u001b[1;32m~\\AppData\\Local\\Temp/ipykernel_22600/3075728210.py\u001b[0m in \u001b[0;36m<module>\u001b[1;34m\u001b[0m\n\u001b[0;32m      4\u001b[0m \u001b[0mprint\u001b[0m\u001b[1;33m(\u001b[0m\u001b[0mtype\u001b[0m\u001b[1;33m(\u001b[0m\u001b[0mgame\u001b[0m\u001b[1;33m)\u001b[0m\u001b[1;33m)\u001b[0m\u001b[1;33m\u001b[0m\u001b[1;33m\u001b[0m\u001b[0m\n\u001b[0;32m      5\u001b[0m \u001b[0mengine\u001b[0m \u001b[1;33m=\u001b[0m \u001b[0mchess\u001b[0m\u001b[1;33m.\u001b[0m\u001b[0mengine\u001b[0m\u001b[1;33m.\u001b[0m\u001b[0mSimpleEngine\u001b[0m\u001b[1;33m.\u001b[0m\u001b[0mpopen_uci\u001b[0m\u001b[1;33m(\u001b[0m\u001b[1;34m\"C:\\\\Users\\\\viksp\\\\Documents\\\\Folder_of_Folders\\\\copyingaimchess\\\\chess_grind\\\\stockfish-windows-amd64.exe\"\u001b[0m\u001b[1;33m)\u001b[0m\u001b[1;33m\u001b[0m\u001b[1;33m\u001b[0m\u001b[0m\n\u001b[1;32m----> 6\u001b[1;33m \u001b[0mgame\u001b[0m \u001b[1;33m=\u001b[0m \u001b[0mchess\u001b[0m\u001b[1;33m.\u001b[0m\u001b[0mpgn\u001b[0m\u001b[1;33m.\u001b[0m\u001b[0mread_game\u001b[0m\u001b[1;33m(\u001b[0m\u001b[0mgame\u001b[0m\u001b[1;33m)\u001b[0m\u001b[1;33m\u001b[0m\u001b[1;33m\u001b[0m\u001b[0m\n\u001b[0m\u001b[0;32m      7\u001b[0m \u001b[0mboard\u001b[0m \u001b[1;33m=\u001b[0m \u001b[0mgame\u001b[0m\u001b[1;33m.\u001b[0m\u001b[0mboard\u001b[0m\u001b[1;33m(\u001b[0m\u001b[1;33m)\u001b[0m\u001b[1;33m\u001b[0m\u001b[1;33m\u001b[0m\u001b[0m\n\u001b[0;32m      8\u001b[0m \u001b[0mprint\u001b[0m\u001b[1;33m(\u001b[0m\u001b[0mgame\u001b[0m\u001b[1;33m)\u001b[0m\u001b[1;33m\u001b[0m\u001b[1;33m\u001b[0m\u001b[0m\n",
      "\u001b[1;32m~\\AppData\\Roaming\\Python\\Python37\\site-packages\\chess\\pgn.py\u001b[0m in \u001b[0;36mread_game\u001b[1;34m(handle, Visitor)\u001b[0m\n\u001b[0;32m   1451\u001b[0m \u001b[1;33m\u001b[0m\u001b[0m\n\u001b[0;32m   1452\u001b[0m     \u001b[1;31m# Ignore leading empty lines and comments.\u001b[0m\u001b[1;33m\u001b[0m\u001b[1;33m\u001b[0m\u001b[1;33m\u001b[0m\u001b[0m\n\u001b[1;32m-> 1453\u001b[1;33m     \u001b[0mline\u001b[0m \u001b[1;33m=\u001b[0m \u001b[0mhandle\u001b[0m\u001b[1;33m.\u001b[0m\u001b[0mreadline\u001b[0m\u001b[1;33m(\u001b[0m\u001b[1;33m)\u001b[0m\u001b[1;33m.\u001b[0m\u001b[0mlstrip\u001b[0m\u001b[1;33m(\u001b[0m\u001b[1;34m\"\\ufeff\"\u001b[0m\u001b[1;33m)\u001b[0m\u001b[1;33m\u001b[0m\u001b[1;33m\u001b[0m\u001b[0m\n\u001b[0m\u001b[0;32m   1454\u001b[0m     \u001b[1;32mwhile\u001b[0m \u001b[0mline\u001b[0m\u001b[1;33m.\u001b[0m\u001b[0misspace\u001b[0m\u001b[1;33m(\u001b[0m\u001b[1;33m)\u001b[0m \u001b[1;32mor\u001b[0m \u001b[0mline\u001b[0m\u001b[1;33m.\u001b[0m\u001b[0mstartswith\u001b[0m\u001b[1;33m(\u001b[0m\u001b[1;34m\"%\"\u001b[0m\u001b[1;33m)\u001b[0m \u001b[1;32mor\u001b[0m \u001b[0mline\u001b[0m\u001b[1;33m.\u001b[0m\u001b[0mstartswith\u001b[0m\u001b[1;33m(\u001b[0m\u001b[1;34m\";\"\u001b[0m\u001b[1;33m)\u001b[0m\u001b[1;33m:\u001b[0m\u001b[1;33m\u001b[0m\u001b[1;33m\u001b[0m\u001b[0m\n\u001b[0;32m   1455\u001b[0m         \u001b[0mline\u001b[0m \u001b[1;33m=\u001b[0m \u001b[0mhandle\u001b[0m\u001b[1;33m.\u001b[0m\u001b[0mreadline\u001b[0m\u001b[1;33m(\u001b[0m\u001b[1;33m)\u001b[0m\u001b[1;33m\u001b[0m\u001b[1;33m\u001b[0m\u001b[0m\n",
      "\u001b[1;31mAttributeError\u001b[0m: 'Game' object has no attribute 'readline'"
     ]
    }
   ],
   "source": [
    "#import pychess and start stockfish\n",
    "import chess.engine\n",
    "import chess.pgn\n",
    "print(type(game))\n",
    "engine = chess.engine.SimpleEngine.popen_uci(\"C:\\\\Users\\\\viksp\\\\Documents\\\\Folder_of_Folders\\\\copyingaimchess\\\\chess_grind\\\\stockfish-windows-amd64.exe\")\n",
    "game = chess.pgn.read_game(game)\n",
    "board = game.board()\n",
    "print(game)\n",
    "#So if you want, here's also your PGN to FEN conversion:\n",
    "print('FEN of the last position of the game: ', board.fen())\n",
    "\n",
    "#or if you want to loop over all game nodes:\n",
    "x=True\n",
    "while x:\n",
    "    try:\n",
    "        node = game.variations[0]\n",
    "        board = game.board() #print the board if you want, to make sure\n",
    "        game = node\n",
    "        #give your position to the engine:\n",
    "        info = engine.analyse(board, chess.engine.Limit(time=0.1))\n",
    "        print(\"Score:\", info[\"score\"])\n",
    "    except:\n",
    "        x=False"
   ]
  },
  {
   "cell_type": "code",
   "execution_count": null,
   "id": "216f3131",
   "metadata": {},
   "outputs": [],
   "source": []
  }
 ],
 "metadata": {
  "kernelspec": {
   "display_name": "Python 3.7.13 ('chess')",
   "language": "python",
   "name": "python3"
  },
  "language_info": {
   "codemirror_mode": {
    "name": "ipython",
    "version": 3
   },
   "file_extension": ".py",
   "mimetype": "text/x-python",
   "name": "python",
   "nbconvert_exporter": "python",
   "pygments_lexer": "ipython3",
   "version": "3.7.13"
  },
  "vscode": {
   "interpreter": {
    "hash": "2b58b63663bfa6bdacfb552951e5a84b828b64be8907b23d32c9ef045afeb99a"
   }
  }
 },
 "nbformat": 4,
 "nbformat_minor": 5
}
