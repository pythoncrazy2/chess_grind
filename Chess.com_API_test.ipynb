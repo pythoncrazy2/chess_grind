{
 "cells": [
  {
   "cell_type": "code",
   "execution_count": 27,
   "id": "0a1fdbd5",
   "metadata": {},
   "outputs": [
    {
     "name": "stdout",
     "output_type": "stream",
     "text": [
      "Collecting pgn-parser\n",
      "  Downloading pgn_parser-1.1.0-py3-none-any.whl (12 kB)\n",
      "Installing collected packages: pgn-parser\n",
      "Successfully installed pgn-parser-1.1.0\n"
     ]
    }
   ],
   "source": [
    "!pip install pgn-parser"
   ]
  },
  {
   "cell_type": "code",
   "execution_count": 37,
   "id": "00c4908a",
   "metadata": {},
   "outputs": [
    {
     "name": "stderr",
     "output_type": "stream",
     "text": [
      "C:\\Users\\viksp\\AppData\\Roaming\\Python\\Python37\\site-packages\\ipykernel_launcher.py:4: RuntimeWarning: coroutine 'Client.handler' was never awaited\n",
      "  after removing the cwd from sys.path.\n",
      "RuntimeWarning: Enable tracemalloc to get the object allocation traceback\n"
     ]
    },
    {
     "name": "stdout",
     "output_type": "stream",
     "text": [
      "['e3', 'd5', 'Ke2', 'Bf5', 'f3', 'e6', 'Kf2', 'Nc6', 'd4', 'Nf6', 'Bb5', 'Bd6', 'Bxc6+', 'bxc6', 'Nc3', 'O-O', 'Nge2', 'c5', 'Rf1', 'c4', 'Kg1', 'Nh5', 'Bd2', 'Qh4', 'g3', 'Nxg3', 'Nxg3', 'Bxg3', 'hxg3', 'Qxg3+', 'Kh1', 'Bh3', 'Qe2', 'h5', 'Rg1', 'Qh4', 'Qh2', 'f6', 'e4', 'g5', 'Rg3', 'Kf7', 'Rxh3', 'Qxh3', 'Qxh3', 'Rh8', 'Rg1', 'Rag8', 'f4', 'g4', 'Qh4', 'Ke7', 'e5', 'g3', 'Qxf6+', 'Kd7', 'Nb5', 'Rh7', 'Kg2', 'Kc6', 'Nc3', 'Kb7', 'Kf3', 'h4', 'Be3', 'h3', 'Rxg3', 'h2', 'Rg2', 'h1=Q', 'Qxe6', 'Qxg2#', '0-1']\n",
      "['{[%clk 0:01:00]}', '{[%clk 0:01:00]}', '{[%clk 0:00:59.9]}', '{[%clk 0:00:59.4]}', '{[%clk 0:00:59.6]}', '{[%clk 0:00:58.4]}', '{[%clk 0:00:59.5]}', '{[%clk 0:00:57.8]}', '{[%clk 0:00:59.1]}', '{[%clk 0:00:57.2]}', '{[%clk 0:00:58.7]}', '{[%clk 0:00:55.6]}', '{[%clk 0:00:58.2]}', '{[%clk 0:00:55.3]}', '{[%clk 0:00:57]}', '{[%clk 0:00:54.9]}', '{[%clk 0:00:56.1]}', '{[%clk 0:00:53.5]}', '{[%clk 0:00:55.6]}', '{[%clk 0:00:52.9]}', '{[%clk 0:00:54.1]}', '{[%clk 0:00:52.3]}', '{[%clk 0:00:53.5]}', '{[%clk 0:00:50.5]}', '{[%clk 0:00:52.5]}', '{[%clk 0:00:47.4]}', '{[%clk 0:00:51.2]}', '{[%clk 0:00:46.5]}', '{[%clk 0:00:50.2]}', '{[%clk 0:00:46.2]}', '{[%clk 0:00:49.5]}', '{[%clk 0:00:43.6]}', '{[%clk 0:00:45.4]}', '{[%clk 0:00:42.9]}', '{[%clk 0:00:42.8]}', '{[%clk 0:00:41.3]}', '{[%clk 0:00:34.3]}', '{[%clk 0:00:39.9]}', '{[%clk 0:00:32.6]}', '{[%clk 0:00:36.7]}', '{[%clk 0:00:27.3]}', '{[%clk 0:00:32.2]}', '{[%clk 0:00:25.4]}', '{[%clk 0:00:28.9]}', '{[%clk 0:00:24.6]}', '{[%clk 0:00:27.9]}', '{[%clk 0:00:21.7]}', '{[%clk 0:00:25.9]}', '{[%clk 0:00:20.4]}', '{[%clk 0:00:24.3]}', '{[%clk 0:00:19]}', '{[%clk 0:00:23.6]}', '{[%clk 0:00:17.7]}', '{[%clk 0:00:23.1]}', '{[%clk 0:00:16.7]}', '{[%clk 0:00:22.9]}', '{[%clk 0:00:15]}', '{[%clk 0:00:21.9]}', '{[%clk 0:00:11.4]}', '{[%clk 0:00:20.7]}', '{[%clk 0:00:10.2]}', '{[%clk 0:00:19]}', '{[%clk 0:00:08.8]}', '{[%clk 0:00:17.9]}', '{[%clk 0:00:07.4]}', '{[%clk 0:00:17.4]}', '{[%clk 0:00:05.8]}', '{[%clk 0:00:16.6]}', '{[%clk 0:00:02.3]}', '{[%clk 0:00:14.9]}', '{[%clk 0:00:01.7]}', '{[%clk 0:00:14.2]}']\n"
     ]
    }
   ],
   "source": [
    "from chessdotcom import get_player_profile, get_player_games_by_month,get_player_games_by_month_pgn\n",
    "import nest_asyncio\n",
    "nest_asyncio.apply()\n",
    "response = get_player_profile(\"chessfanatic6\")\n",
    "#await response\n",
    "\n",
    "#games=get_player_games_by_month_pgn(\"chessfanatic6\",month=\"06\",year=\"2022\")\n",
    "#await games\n",
    "from pgn_parser import parser, pgn\n",
    "import pgn as pgn2\n",
    "import sys\n",
    "\n",
    "f = open(\"C:\\\\Users\\\\viksp\\\\Downloads\\\\.pgn\\\\chesscom-export-chessfanatic6.pgn\")\n",
    "pgn_text = f.read()\n",
    "f.close()\n",
    "games = pgn2.loads(pgn_text)\n",
    "i=0\n",
    "opening_win_rate_dict={}\n",
    "\n",
    "moves=games[0].moves[::2]\n",
    "timings=games[0].moves[1::2]\n",
    "print(moves)\n",
    "print(timings)"
   ]
  }
 ],
 "metadata": {
  "kernelspec": {
   "display_name": "Python [conda env:chess] *",
   "language": "python",
   "name": "conda-env-chess-py"
  },
  "language_info": {
   "codemirror_mode": {
    "name": "ipython",
    "version": 3
   },
   "file_extension": ".py",
   "mimetype": "text/x-python",
   "name": "python",
   "nbconvert_exporter": "python",
   "pygments_lexer": "ipython3",
   "version": "3.7.13"
  }
 },
 "nbformat": 4,
 "nbformat_minor": 5
}
