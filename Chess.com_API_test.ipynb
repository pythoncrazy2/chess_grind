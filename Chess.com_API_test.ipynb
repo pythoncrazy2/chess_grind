{
 "cells": [
  {
   "cell_type": "code",
   "execution_count": 1,
   "id": "00c4908a",
   "metadata": {
    "collapsed": true
   },
   "outputs": [],
   "source": [
    "#from chessdotcom import get_player_profile, get_player_games_by_month,get_player_games_by_month_pgn\n",
    "#import nest_asyncio\n",
    "# nest_asyncio.apply()\n",
    "#response = get_player_profile(\"chessfanatic6\")\n",
    "# await response\n",
    "\n",
    "# TODO: Get games from a chess.com profile, right now I am using a preloaded pgn file\n",
    "\n",
    "\n",
    "# games=get_player_games_by_month_pgn(\"chessfanatic6\",month=\"06\",year=\"2022\")\n",
    "# await games\n"
   ]
  },
  {
   "cell_type": "code",
   "execution_count": 5,
   "id": "1902dc23",
   "metadata": {},
   "outputs": [
    {
     "name": "stdout",
     "output_type": "stream",
     "text": [
      "PovScore(Cp(+92), WHITE)\n",
      "PovScore(Cp(+2), BLACK)\n",
      "PovScore(Cp(+37), WHITE)\n",
      "PovScore(Cp(+256), BLACK)\n",
      "PovScore(Cp(-166), WHITE)\n",
      "PovScore(Cp(+231), BLACK)\n",
      "PovScore(Cp(-142), WHITE)\n",
      "PovScore(Cp(+196), BLACK)\n",
      "PovScore(Cp(-90), WHITE)\n",
      "PovScore(Cp(+117), BLACK)\n",
      "PovScore(Cp(-50), WHITE)\n",
      "PovScore(Cp(+119), BLACK)\n",
      "PovScore(Cp(-41), WHITE)\n",
      "PovScore(Cp(+187), BLACK)\n",
      "PovScore(Cp(-133), WHITE)\n",
      "PovScore(Cp(+200), BLACK)\n",
      "PovScore(Cp(-168), WHITE)\n",
      "PovScore(Cp(+196), BLACK)\n",
      "PovScore(Cp(-149), WHITE)\n",
      "PovScore(Cp(+212), BLACK)\n",
      "PovScore(Cp(-122), WHITE)\n",
      "PovScore(Cp(+199), BLACK)\n",
      "PovScore(Cp(-3), WHITE)\n",
      "PovScore(Cp(+123), BLACK)\n",
      "PovScore(Cp(-20), WHITE)\n",
      "PovScore(Cp(+28), BLACK)\n",
      "PovScore(Cp(0), WHITE)\n",
      "PovScore(Cp(0), BLACK)\n",
      "PovScore(Cp(0), WHITE)\n",
      "PovScore(Cp(0), BLACK)\n",
      "PovScore(Cp(0), WHITE)\n",
      "PovScore(Cp(0), BLACK)\n",
      "PovScore(Cp(+289), WHITE)\n",
      "PovScore(Cp(+18), BLACK)\n",
      "PovScore(Cp(+625), WHITE)\n",
      "PovScore(Cp(-619), BLACK)\n",
      "PovScore(Cp(+775), WHITE)\n",
      "PovScore(Cp(-777), BLACK)\n",
      "PovScore(Cp(+847), WHITE)\n",
      "PovScore(Cp(-771), BLACK)\n",
      "PovScore(Cp(+872), WHITE)\n",
      "PovScore(Cp(-780), BLACK)\n",
      "PovScore(Cp(+1659), WHITE)\n",
      "PovScore(Cp(-1691), BLACK)\n",
      "PovScore(Cp(+1744), WHITE)\n",
      "PovScore(Cp(-1772), BLACK)\n",
      "PovScore(Cp(+1867), WHITE)\n",
      "PovScore(Cp(-1683), BLACK)\n",
      "PovScore(Cp(+2010), WHITE)\n",
      "PovScore(Cp(-1688), BLACK)\n",
      "PovScore(Cp(+1794), WHITE)\n",
      "PovScore(Cp(-1731), BLACK)\n",
      "PovScore(Cp(+1973), WHITE)\n",
      "PovScore(Cp(-1816), BLACK)\n",
      "PovScore(Mate(+11), WHITE)\n",
      "[92, -2, 37, -256, -166, -231, -142, -196, -90, -117, -50, -119, -41, -187, -133, -200, -168, -196, -149, -212, -122, -199, -3, -123, -20, -28, 0, 0, 0, 0, 0, 0, 289, -18, 625, 619, 775, 777, 847, 771, 872, 780, 1659, 1691, 1744, 1772, 1867, 1683, 2010, 1688, 1794, 1731, 1973, 1816]\n"
     ]
    }
   ],
   "source": [
    "#import pychess and start stockfish\n",
    "import chess.engine\n",
    "import re\n",
    "import chess.pgn\n",
    "\n",
    "#read the game\n",
    "pgn = open(\"mate_test.pgn\")\n",
    "first_game = chess.pgn.read_game(pgn)\n",
    "#print(first_game)\n",
    "board = first_game.board()\n",
    "\n",
    "#load the engine\n",
    "engine = chess.engine.SimpleEngine.popen_uci(\"C:\\\\Users\\\\viksp\\\\Documents\\\\Folder_of_Folders\\\\copyingaimchess\\\\chess_grind\\\\stockfish-windows-amd64.exe\")\n",
    "\n",
    "\n",
    "#print(first_game)\n",
    "#So if you want, here's also your PGN to FEN conversion:\n",
    "#print('FEN of the last position of the game: ', board.fen())\n",
    "\n",
    "#or if you want to loop over all game nodes:\n",
    "x=True\n",
    "white_turn=True\n",
    "evaluations=[]\n",
    "while x:\n",
    "    try:\n",
    "        node = first_game.variations[0]\n",
    "        board = first_game.board() \n",
    "        #print(board)\n",
    "        #print the board if you want, to make sure\n",
    "        first_game = node\n",
    "        #give your position to the engine:\n",
    "        info = engine.analyse(board, chess.engine.Limit(time=0.5))\n",
    "        print(info[\"score\"])\n",
    "        y=(re.findall(\"[-\\d]+\",  str(info[\"score\"])))\n",
    "        y[0]=int(y[0])\n",
    "        if(\"Mate\" in str(info[\"score\"]) and \"WHITE\" in str(info[\"score\"]) and y>0): #if there is mate for white, I append the score plus the maximum\n",
    "            y[0]+=32765\n",
    "        elif(\"Mate\" in str(info[\"score\"]) and \"BLACK\" in str(info[\"score\"]) and y<0): #if there is mate for black, I append the score plus the maximum\n",
    "            y[0]-=32765\n",
    "        evaluations.append(y)\n",
    "            \n",
    "    except:\n",
    "        x=False\n",
    "        \n",
    "#could probably do this using some list comprehension, but I litteraly don't even care \n",
    "for i in range(len(evaluations)):\n",
    "    evaluations[i]=int(evaluations[i][0])*(-1)**i\n",
    "\n",
    "\n",
    "\n",
    "\n",
    "print(evaluations)"
   ]
  },
  {
   "cell_type": "code",
   "execution_count": 3,
   "id": "bd421f3d",
   "metadata": {},
   "outputs": [
    {
     "name": "stdout",
     "output_type": "stream",
     "text": [
      "chessfanatic6\n"
     ]
    }
   ],
   "source": [
    "# getting the username of the person who wants to run the program\n",
    "user = \"chessfanatic6\"\n",
    "# user=input()\n",
    "\n",
    "# reading the pgn\n",
    "pgn = open(\"tester.pgn\")\n",
    "first_game = chess.pgn.read_game(pgn)\n",
    "board = first_game.board()\n",
    "\n",
    "# getting the headers\n",
    "headers = first_game.headers\n",
    "\n",
    "\n",
    "# checking who is white and who is black\n",
    "white = False\n",
    "print(headers['White'])\n",
    "if(white == user):\n",
    "    white = True\n"
   ]
  },
  {
   "cell_type": "code",
   "execution_count": 4,
   "id": "353bdc27",
   "metadata": {},
   "outputs": [
    {
     "name": "stdout",
     "output_type": "stream",
     "text": [
      "[3, 34, 42, 49, 54]\n",
      "[4, 12, 13, 20, 22, 23, 32, 33, 36, 39, 40, 41, 44, 46, 47, 48, 50, 52]\n",
      "[1, 5, 6, 8, 10, 11, 14, 15, 16, 17, 18, 19, 26, 30, 38, 53]\n"
     ]
    }
   ],
   "source": [
    "blunder = []  # keeps track of the indicies of the blunders\n",
    "mistakes = [] # keeps track of the indicies of the mistakes\n",
    "inaccuracies = [] #keeps track of the indicies of the inaccuracies\n",
    "for i in range(1, len(evaluations)):\n",
    "    if(abs(evaluations[i-1]-evaluations[i]) > 300):  # checking if the move is blunder\n",
    "        blunder.append(i)\n",
    "    elif(abs(evaluations[i-1]-evaluations[i]) > 100):\n",
    "        mistakes.append(i)\n",
    "    elif(abs(evaluations[i-1]-evaluations[i]) > 50):\n",
    "        inaccuracies.append(i)\n",
    "print(blunder)\n",
    "print(mistakes)\n",
    "print(inaccuracies)"
   ]
  }
 ],
 "metadata": {
  "kernelspec": {
   "display_name": "Python 3.7.13 ('chess')",
   "language": "python",
   "name": "python3"
  },
  "language_info": {
   "codemirror_mode": {
    "name": "ipython",
    "version": 3
   },
   "file_extension": ".py",
   "mimetype": "text/x-python",
   "name": "python",
   "nbconvert_exporter": "python",
   "pygments_lexer": "ipython3",
   "version": "3.7.13"
  },
  "vscode": {
   "interpreter": {
    "hash": "2b58b63663bfa6bdacfb552951e5a84b828b64be8907b23d32c9ef045afeb99a"
   }
  }
 },
 "nbformat": 4,
 "nbformat_minor": 5
}
