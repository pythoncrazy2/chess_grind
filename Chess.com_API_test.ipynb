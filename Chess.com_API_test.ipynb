{
 "cells": [
  {
   "cell_type": "code",
   "execution_count": 1,
   "id": "00c4908a",
   "metadata": {
    "collapsed": true
   },
   "outputs": [],
   "source": [
    "#from chessdotcom import get_player_profile, get_player_games_by_month,get_player_games_by_month_pgn\n",
    "#import nest_asyncio\n",
    "# nest_asyncio.apply()\n",
    "#response = get_player_profile(\"chessfanatic6\")\n",
    "# await response\n",
    "\n",
    "# TODO: Get games from a chess.com profile, right now I am using a preloaded pgn file\n",
    "\n",
    "\n",
    "# games=get_player_games_by_month_pgn(\"chessfanatic6\",month=\"06\",year=\"2022\")\n",
    "# await games\n"
   ]
  },
  {
   "cell_type": "code",
   "execution_count": 17,
   "id": "1902dc23",
   "metadata": {},
   "outputs": [
    {
     "name": "stdout",
     "output_type": "stream",
     "text": [
      "PovScore(Cp(+102), WHITE)\n",
      "PovScore(Cp(-22), BLACK)\n",
      "PovScore(Cp(+54), WHITE)\n",
      "PovScore(Cp(+213), BLACK)\n",
      "PovScore(Cp(-160), WHITE)\n",
      "PovScore(Cp(+206), BLACK)\n",
      "PovScore(Cp(-126), WHITE)\n",
      "PovScore(Cp(+160), BLACK)\n",
      "PovScore(Cp(-81), WHITE)\n",
      "PovScore(Cp(+116), BLACK)\n",
      "PovScore(Cp(-71), WHITE)\n",
      "PovScore(Cp(+116), BLACK)\n",
      "PovScore(Cp(-13), WHITE)\n",
      "PovScore(Cp(+193), BLACK)\n",
      "PovScore(Cp(-138), WHITE)\n",
      "PovScore(Cp(+185), BLACK)\n",
      "PovScore(Cp(-130), WHITE)\n",
      "PovScore(Cp(+205), BLACK)\n",
      "PovScore(Cp(-142), WHITE)\n",
      "PovScore(Cp(+243), BLACK)\n",
      "PovScore(Cp(-115), WHITE)\n",
      "PovScore(Cp(+184), BLACK)\n",
      "PovScore(Cp(+140), WHITE)\n",
      "PovScore(Cp(+100), BLACK)\n",
      "PovScore(Cp(-65), WHITE)\n",
      "PovScore(Cp(+52), BLACK)\n",
      "PovScore(Cp(0), WHITE)\n",
      "PovScore(Cp(0), BLACK)\n",
      "PovScore(Cp(0), WHITE)\n",
      "PovScore(Cp(0), BLACK)\n",
      "PovScore(Cp(0), WHITE)\n",
      "PovScore(Cp(0), BLACK)\n",
      "PovScore(Cp(+252), WHITE)\n",
      "PovScore(Cp(-29), BLACK)\n",
      "PovScore(Cp(+565), WHITE)\n",
      "PovScore(Cp(-585), BLACK)\n",
      "PovScore(Cp(+814), WHITE)\n",
      "PovScore(Cp(-778), BLACK)\n",
      "PovScore(Cp(+838), WHITE)\n",
      "PovScore(Cp(-738), BLACK)\n",
      "PovScore(Cp(+871), WHITE)\n",
      "PovScore(Cp(-793), BLACK)\n",
      "PovScore(Cp(+1664), WHITE)\n",
      "PovScore(Cp(-1687), BLACK)\n",
      "PovScore(Cp(+1730), WHITE)\n",
      "PovScore(Cp(-1734), BLACK)\n",
      "PovScore(Cp(+1845), WHITE)\n",
      "PovScore(Cp(-1687), BLACK)\n",
      "PovScore(Cp(+1922), WHITE)\n",
      "PovScore(Cp(-1742), BLACK)\n",
      "PovScore(Cp(+1825), WHITE)\n",
      "PovScore(Cp(-1734), BLACK)\n",
      "PovScore(Cp(+1916), WHITE)\n",
      "PovScore(Cp(-1830), BLACK)\n",
      "PovScore(Mate(+11), WHITE)\n",
      "[102, 22, 54, -213, -160, -206, -126, -160, -81, -116, -71, -116, -13, -193, -138, -185, -130, -205, -142, -243, -115, -184, 140, -100, -65, -52, 0, 0, 0, 0, 0, 0, 252, 29, 565, 585, 814, 778, 838, 738, 871, 793, 1664, 1687, 1730, 1734, 1845, 1687, 1922, 1742, 1825, 1734, 1916, 1830]\n"
     ]
    }
   ],
   "source": [
    "#import pychess and start stockfish\n",
    "import chess.engine\n",
    "import re\n",
    "import chess.pgn\n",
    "\n",
    "#read the game\n",
    "pgn = open(\"mate_test.pgn\")\n",
    "first_game = chess.pgn.read_game(pgn)\n",
    "#print(first_game)\n",
    "board = first_game.board()\n",
    "\n",
    "#load the engine\n",
    "engine = chess.engine.SimpleEngine.popen_uci(\"C:\\\\Users\\\\viksp\\\\Documents\\\\Folder_of_Folders\\\\copyingaimchess\\\\chess_grind\\\\stockfish-windows-amd64.exe\")\n",
    "\n",
    "\n",
    "#print(first_game)\n",
    "#So if you want, here's also your PGN to FEN conversion:\n",
    "#print('FEN of the last position of the game: ', board.fen())\n",
    "\n",
    "#or if you want to loop over all game nodes:\n",
    "x=True\n",
    "white_turn=True\n",
    "evaluations=[]\n",
    "while x:\n",
    "    try:\n",
    "        node = first_game.variations[0]\n",
    "        board = first_game.board() \n",
    "        #print(board)\n",
    "        #print the board if you want, to make sure\n",
    "        first_game = node\n",
    "        #give your position to the engine:\n",
    "        info = engine.analyse(board, chess.engine.Limit(time=0.1))\n",
    "        print(info[\"score\"])\n",
    "        y=(re.findall(\"[-\\d]+\",  str(info[\"score\"])))\n",
    "        y[0]=int(y[0])\n",
    "        if(\"Mate\" in str(info[\"score\"]) and \"WHITE\" in str(info[\"score\"]) and y>0): #if there is mate for white, I append the score plus the maximum\n",
    "            y[0]+=32765\n",
    "        elif(\"Mate\" in str(info[\"score\"]) and \"BLACK\" in str(info[\"score\"]) and y<0): #if there is mate for black, I append the score plus the maximum\n",
    "            y[0]-=32765\n",
    "        evaluations.append(y)\n",
    "            \n",
    "    except:\n",
    "        x=False\n",
    "        \n",
    "#could probably do this using some list comprehension, but I litteraly don't even care \n",
    "for i in range(len(evaluations)):\n",
    "    evaluations[i]=int(evaluations[i][0])*(-1)**i\n",
    "\n",
    "\n",
    "\n",
    "\n",
    "print(evaluations)"
   ]
  },
  {
   "cell_type": "code",
   "execution_count": 3,
   "id": "bd421f3d",
   "metadata": {},
   "outputs": [
    {
     "ename": "SyntaxError",
     "evalue": "unexpected EOF while parsing (Temp/ipykernel_1940/3224850370.py, line 14)",
     "output_type": "error",
     "traceback": [
      "\u001b[1;36m  File \u001b[1;32m\"C:\\Users\\viksp\\AppData\\Local\\Temp/ipykernel_1940/3224850370.py\"\u001b[1;36m, line \u001b[1;32m14\u001b[0m\n\u001b[1;33m    \u001b[0m\n\u001b[1;37m    ^\u001b[0m\n\u001b[1;31mSyntaxError\u001b[0m\u001b[1;31m:\u001b[0m unexpected EOF while parsing\n"
     ]
    }
   ],
   "source": [
    "# getting the username of the person who wants to run the program\n",
    "user = \"chessfanatic6\"\n",
    "# user=input()\n",
    "\n",
    "# reading the pgn\n",
    "pgn = open(\"tester.pgn\")\n",
    "first_game = chess.pgn.read_game(pgn)\n",
    "board = first_game.board()\n",
    "\n",
    "# getting the headers\n",
    "headers = first_game.headers\n",
    "\n",
    "\n",
    "# checking who is white and who is black\n",
    "white = False\n",
    "print(headers['White'])\n",
    "if(white == user):\n",
    "    white = True\n"
   ]
  },
  {
   "cell_type": "code",
   "execution_count": null,
   "id": "353bdc27",
   "metadata": {},
   "outputs": [],
   "source": [
    "blunder = []  # keeps track of the indicies of the blunders\n",
    "mistakes = [] # keeps track of the indicies of the mistakes\n",
    "inaccuracies = [] #keeps track of the indicies of the inaccuracies\n",
    "for i in range(1, len(evaluations)):\n",
    "    if(abs(evaluations[i-1]-evaluations[i]) > 300):  # checking if the move is blunder\n",
    "        blunder.append(i)\n",
    "    elif(abs(evaluations[i-1]-evaluations[i]) > 100):\n",
    "        mistakes.append(i)\n",
    "    elif(abs(evaluations[i-1]-evaluations[i]) > 50):\n",
    "        inaccuracies.append(i)"
   ]
  }
 ],
 "metadata": {
  "kernelspec": {
   "display_name": "Python 3.7.13 ('chess')",
   "language": "python",
   "name": "python3"
  },
  "language_info": {
   "codemirror_mode": {
    "name": "ipython",
    "version": 3
   },
   "file_extension": ".py",
   "mimetype": "text/x-python",
   "name": "python",
   "nbconvert_exporter": "python",
   "pygments_lexer": "ipython3",
   "version": "3.7.13"
  },
  "vscode": {
   "interpreter": {
    "hash": "2b58b63663bfa6bdacfb552951e5a84b828b64be8907b23d32c9ef045afeb99a"
   }
  }
 },
 "nbformat": 4,
 "nbformat_minor": 5
}
