{
 "cells": [
  {
   "cell_type": "code",
   "execution_count": 27,
   "id": "0a1fdbd5",
   "metadata": {},
   "outputs": [
    {
     "name": "stdout",
     "output_type": "stream",
     "text": [
      "Collecting pgn-parser\n",
      "  Downloading pgn_parser-1.1.0-py3-none-any.whl (12 kB)\n",
      "Installing collected packages: pgn-parser\n",
      "Successfully installed pgn-parser-1.1.0\n"
     ]
    }
   ],
   "source": [
    "!pip install pgn-parser"
   ]
  },
  {
   "cell_type": "code",
   "execution_count": 7,
   "id": "00c4908a",
   "metadata": {
    "collapsed": true
   },
   "outputs": [
    {
     "name": "stdout",
     "output_type": "stream",
     "text": [
      "['e3', '{[%clk 0:01:00]}', 'd5', '{[%clk 0:01:00]}', 'Ke2', '{[%clk 0:00:59.9]}', 'Bf5', '{[%clk 0:00:59.4]}', 'f3', '{[%clk 0:00:59.6]}', 'e6', '{[%clk 0:00:58.4]}', 'Kf2', '{[%clk 0:00:59.5]}', 'Nc6', '{[%clk 0:00:57.8]}', 'd4', '{[%clk 0:00:59.1]}', 'Nf6', '{[%clk 0:00:57.2]}', 'Bb5', '{[%clk 0:00:58.7]}', 'Bd6', '{[%clk 0:00:55.6]}', 'Bxc6+', '{[%clk 0:00:58.2]}', 'bxc6', '{[%clk 0:00:55.3]}', 'Nc3', '{[%clk 0:00:57]}', 'O-O', '{[%clk 0:00:54.9]}', 'Nge2', '{[%clk 0:00:56.1]}', 'c5', '{[%clk 0:00:53.5]}', 'Rf1', '{[%clk 0:00:55.6]}', 'c4', '{[%clk 0:00:52.9]}', 'Kg1', '{[%clk 0:00:54.1]}', 'Nh5', '{[%clk 0:00:52.3]}', 'Bd2', '{[%clk 0:00:53.5]}', 'Qh4', '{[%clk 0:00:50.5]}', 'g3', '{[%clk 0:00:52.5]}', 'Nxg3', '{[%clk 0:00:47.4]}', 'Nxg3', '{[%clk 0:00:51.2]}', 'Bxg3', '{[%clk 0:00:46.5]}', 'hxg3', '{[%clk 0:00:50.2]}', 'Qxg3+', '{[%clk 0:00:46.2]}', 'Kh1', '{[%clk 0:00:49.5]}', 'Bh3', '{[%clk 0:00:43.6]}', 'Qe2', '{[%clk 0:00:45.4]}', 'h5', '{[%clk 0:00:42.9]}', 'Rg1', '{[%clk 0:00:42.8]}', 'Qh4', '{[%clk 0:00:41.3]}', 'Qh2', '{[%clk 0:00:34.3]}', 'f6', '{[%clk 0:00:39.9]}', 'e4', '{[%clk 0:00:32.6]}', 'g5', '{[%clk 0:00:36.7]}', 'Rg3', '{[%clk 0:00:27.3]}', 'Kf7', '{[%clk 0:00:32.2]}', 'Rxh3', '{[%clk 0:00:25.4]}', 'Qxh3', '{[%clk 0:00:28.9]}', 'Qxh3', '{[%clk 0:00:24.6]}', 'Rh8', '{[%clk 0:00:27.9]}', 'Rg1', '{[%clk 0:00:21.7]}', 'Rag8', '{[%clk 0:00:25.9]}', 'f4', '{[%clk 0:00:20.4]}', 'g4', '{[%clk 0:00:24.3]}', 'Qh4', '{[%clk 0:00:19]}', 'Ke7', '{[%clk 0:00:23.6]}', 'e5', '{[%clk 0:00:17.7]}', 'g3', '{[%clk 0:00:23.1]}', 'Qxf6+', '{[%clk 0:00:16.7]}', 'Kd7', '{[%clk 0:00:22.9]}', 'Nb5', '{[%clk 0:00:15]}', 'Rh7', '{[%clk 0:00:21.9]}', 'Kg2', '{[%clk 0:00:11.4]}', 'Kc6', '{[%clk 0:00:20.7]}', 'Nc3', '{[%clk 0:00:10.2]}', 'Kb7', '{[%clk 0:00:19]}', 'Kf3', '{[%clk 0:00:08.8]}', 'h4', '{[%clk 0:00:17.9]}', 'Be3', '{[%clk 0:00:07.4]}', 'h3', '{[%clk 0:00:17.4]}', 'Rxg3', '{[%clk 0:00:05.8]}', 'h2', '{[%clk 0:00:16.6]}', 'Rg2', '{[%clk 0:00:02.3]}', 'h1=Q', '{[%clk 0:00:14.9]}', 'Qxe6', '{[%clk 0:00:01.7]}', 'Qxg2#', '{[%clk 0:00:14.2]}', '0-1']\n",
      "['e3', 'd5', 'Ke2', 'Bf5', 'f3', 'e6', 'Kf2', 'Nc6', 'd4', 'Nf6', 'Bb5', 'Bd6', 'Bxc6+', 'bxc6', 'Nc3', 'O-O', 'Nge2', 'c5', 'Rf1', 'c4', 'Kg1', 'Nh5', 'Bd2', 'Qh4', 'g3', 'Nxg3', 'Nxg3', 'Bxg3', 'hxg3', 'Qxg3+', 'Kh1', 'Bh3', 'Qe2', 'h5', 'Rg1', 'Qh4', 'Qh2', 'f6', 'e4', 'g5', 'Rg3', 'Kf7', 'Rxh3', 'Qxh3', 'Qxh3', 'Rh8', 'Rg1', 'Rag8', 'f4', 'g4', 'Qh4', 'Ke7', 'e5', 'g3', 'Qxf6+', 'Kd7', 'Nb5', 'Rh7', 'Kg2', 'Kc6', 'Nc3', 'Kb7', 'Kf3', 'h4', 'Be3', 'h3', 'Rxg3', 'h2', 'Rg2', 'h1=Q', 'Qxe6', 'Qxg2#', '0-1']\n",
      "e3 d5 Ke2 Bf5 f3 e6 Kf2 Nc6 d4 Nf6 Bb5 Bd6 Bxc6+ bxc6 Nc3 O-O Nge2 c5 Rf1 c4 Kg1 Nh5 Bd2 Qh4 g3 Nxg3 Nxg3 Bxg3 hxg3 Qxg3+ Kh1 Bh3 Qe2 h5 Rg1 Qh4 Qh2 f6 e4 g5 Rg3 Kf7 Rxh3 Qxh3 Qxh3 Rh8 Rg1 Rag8 f4 g4 Qh4 Ke7 e5 g3 Qxf6+ Kd7 Nb5 Rh7 Kg2 Kc6 Nc3 Kb7 Kf3 h4 Be3 h3 Rxg3 h2 Rg2 h1=Q Qxe6 Qxg2# 0-1\n"
     ]
    },
    {
     "ename": "ParseError",
     "evalue": "Line 1: expected \"[\", [\\n], \"{\", [0-9], \"1-0\", \"0-1\", \"1/2-1/2\", \"*\", [\\s]\ne3 d5 Ke2 Bf5 f3 e6 Kf2 Nc6 d4 Nf6 Bb5 Bd6 Bxc6+ bxc6 Nc3 O-O Nge2 c5 Rf1 c4 Kg1 Nh5 Bd2 Qh4 g3 Nxg3 Nxg3 Bxg3 hxg3 Qxg3+ Kh1 Bh3 Qe2 h5 Rg1 Qh4 Qh2 f6 e4 g5 Rg3 Kf7 Rxh3 Qxh3 Qxh3 Rh8 Rg1 Rag8 f4 g4 Qh4 Ke7 e5 g3 Qxf6+ Kd7 Nb5 Rh7 Kg2 Kc6 Nc3 Kb7 Kf3 h4 Be3 h3 Rxg3 h2 Rg2 h1=Q Qxe6 Qxg2# 0-1\n^ (<string>)",
     "output_type": "error",
     "traceback": [
      "Traceback \u001b[1;36m(most recent call last)\u001b[0m:\n",
      "  File \u001b[0;32m\"C:\\Users\\viksp\\AppData\\Roaming\\Python\\Python37\\site-packages\\IPython\\core\\interactiveshell.py\"\u001b[0m, line \u001b[0;32m3441\u001b[0m, in \u001b[0;35mrun_code\u001b[0m\n    exec(code_obj, self.user_global_ns, self.user_ns)\n",
      "  File \u001b[0;32m\"C:\\Users\\viksp\\AppData\\Local\\Temp/ipykernel_17300/1655357316.py\"\u001b[0m, line \u001b[0;32m28\u001b[0m, in \u001b[0;35m<module>\u001b[0m\n    game = parser.parse(' '.join(moves),actions=pgn.Actions())\n",
      "  File \u001b[0;32m\"C:\\Users\\viksp\\Anaconda3\\envs\\chess\\lib\\site-packages\\pgn_parser\\parser.py\"\u001b[0m, line \u001b[0;32m1633\u001b[0m, in \u001b[0;35mparse\u001b[0m\n    return parser.parse()\n",
      "\u001b[1;36m  File \u001b[1;32m\"C:\\Users\\viksp\\Anaconda3\\envs\\chess\\lib\\site-packages\\pgn_parser\\parser.py\"\u001b[1;36m, line \u001b[1;32m1617\u001b[1;36m, in \u001b[1;35mparse\u001b[1;36m\u001b[0m\n\u001b[1;33m    raise ParseError(format_error(self._input, self._failure, self._expected))\u001b[0m\n",
      "\u001b[1;36m  File \u001b[1;32m\"<string>\"\u001b[1;36m, line \u001b[1;32munknown\u001b[0m\n\u001b[1;31mParseError\u001b[0m\u001b[1;31m:\u001b[0m Line 1: expected \"[\", [\\n], \"{\", [0-9], \"1-0\", \"0-1\", \"1/2-1/2\", \"*\", [\\s]\ne3 d5 Ke2 Bf5 f3 e6 Kf2 Nc6 d4 Nf6 Bb5 Bd6 Bxc6+ bxc6 Nc3 O-O Nge2 c5 Rf1 c4 Kg1 Nh5 Bd2 Qh4 g3 Nxg3 Nxg3 Bxg3 hxg3 Qxg3+ Kh1 Bh3 Qe2 h5 Rg1 Qh4 Qh2 f6 e4 g5 Rg3 Kf7 Rxh3 Qxh3 Qxh3 Rh8 Rg1 Rag8 f4 g4 Qh4 Ke7 e5 g3 Qxf6+ Kd7 Nb5 Rh7 Kg2 Kc6 Nc3 Kb7 Kf3 h4 Be3 h3 Rxg3 h2 Rg2 h1=Q Qxe6 Qxg2# 0-1\n^\n"
     ]
    }
   ],
   "source": [
    "from chessdotcom import get_player_profile, get_player_games_by_month,get_player_games_by_month_pgn\n",
    "import nest_asyncio\n",
    "nest_asyncio.apply()\n",
    "response = get_player_profile(\"chessfanatic6\")\n",
    "#await response\n",
    "\n",
    "#TODO: Get games from a chess.com profile, right now I a preloaded pgn file\n",
    "\n",
    "\n",
    "#games=get_player_games_by_month_pgn(\"chessfanatic6\",month=\"06\",year=\"2022\")\n",
    "#await games"
   ]
  },
  {
   "cell_type": "code",
   "execution_count": null,
   "id": "12306abe",
   "metadata": {},
   "outputs": [],
   "source": [
    "#imports\n",
    "from pgn_parser import parser, pgn\n",
    "import pgn as pgn2\n",
    "import sys\n",
    "\n",
    "f = open(\"C:\\\\Users\\\\viksp\\\\Downloads\\\\.pgn\\\\chesscom-export-chessfanatic6.pgn\")\n",
    "pgn_text = f.read()\n",
    "f.close()\n",
    "\n",
    "\n",
    "games = pgn2.loads(pgn_text)\n",
    "\n",
    "print(games[0].moves)\n",
    "moves=games[0].moves[::2]\n",
    "\n",
    "\n",
    "\n",
    "timings=games[0].moves[1::2]\n",
    "print(moves)\n",
    "print(' '.join(moves))\n",
    "#print(timings)\n",
    "game = parser.parse(' '.join(moves),actions=pgn.Actions())\n",
    "print(game)"
   ]
  }
 ],
 "metadata": {
  "kernelspec": {
   "display_name": "Python [conda env:chess] *",
   "language": "python",
   "name": "conda-env-chess-py"
  },
  "language_info": {
   "codemirror_mode": {
    "name": "ipython",
    "version": 3
   },
   "file_extension": ".py",
   "mimetype": "text/x-python",
   "name": "python",
   "nbconvert_exporter": "python",
   "pygments_lexer": "ipython3",
   "version": "3.7.13"
  }
 },
 "nbformat": 4,
 "nbformat_minor": 5
}
